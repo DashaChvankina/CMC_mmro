{
 "cells": [
  {
   "cell_type": "markdown",
   "metadata": {},
   "source": [
    "# Машинное обучение, ВМК МГУ\n",
    "\n",
    "## Практическое задание 4. Разложение ошибки на смещение и разброс. Градиентный бустинг ~~своими руками~~\n",
    "\n",
    "### Общая информация\n",
    "\n",
    "Дата выдачи: 25.11.2021\n",
    "\n",
    "Мягкий дедлайн: 23:59MSK 09.12.2021\n",
    "\n",
    "Жесткий дедлайн: 23:59MSK 16.12.2021\n",
    "\n",
    "### Оценивание и штрафы\n",
    "Каждая из задач имеет определенную «стоимость» (указана в скобках около задачи). Максимально допустимая оценка за работу — **10 баллов + 0.5 бонусов**. Проверяющий имеет право снизить оценку за неэффективную реализацию или неопрятные графики.\n",
    "\n",
    "**Обратите внимание**, что в каждом разделе домашнего задания есть оцениваниемые задачи и есть вопросы. Вопросы дополняют задачи и направлены на то, чтобы проинтерпретировать или обосновать происходящее. Код без интерпретации не имеет смысла, поэтому отвечать на вопросы обязательно — за отсутствие ответов мы будем снижать баллы за задачи. Если вы ответите на вопросы, но не напишете корректный код к соответствующим оцениваемым задачам, то баллы за такое выставлены не будут.\n",
    "\n",
    "Сдавать задание после указанного срока сдачи нельзя. При выставлении неполного балла за задание в связи с наличием ошибок на усмотрение проверяющего предусмотрена возможность исправить работу на указанных в ответном письме условиях.\n",
    "\n",
    "Задание выполняется самостоятельно. «Похожие» решения считаются плагиатом и все задействованные студенты (в том числе те, у кого списали) не могут получить за него больше 0 баллов (подробнее о плагиате см. на странице курса). Если вы нашли решение какого-то из заданий (или его часть) в открытом источнике, необходимо указать ссылку на этот источник в отдельном блоке в конце вашей работы (скорее всего вы будете не единственным, кто это нашел, поэтому чтобы исключить подозрение в плагиате, необходима ссылка на источник).\n",
    "\n",
    "Неэффективная реализация кода может негативно отразиться на оценке.\n",
    "\n",
    "<p style=\"color:#de3815;font-size:25px;\">\n",
    "Напоминание об оформлении и выполнении ноутбука\n",
    "</p>\n",
    "\n",
    "* Все строчки должны быть выполнены. Нужно, чтобы output команды можно было увидеть, не запуская ячейки (кроме редких случаев, когда необходимо намеренно скрыть ненужный output, про такие случаи желательно писать пояснения в тексте). **В противном случае -1 балл**\n",
    "* При оформлении ДЗ нужно пользоваться данным файлом в качестве шаблона. **Не нужно** удалять и видоизменять написанный код и текст, если явно не указана такая возможность. Создавать новые ячейки с кодом/текстов там, где это осмысленно и вы считаете необходимым, конечно, можно. **В противном случае -1 балл**\n",
    "* В anytask обязательно нужно прикреплять отдельно файл с расширением ipynb (не в архиве, а именно отдельно). Если необходимо отправить еще какие-то файлы, то вынесите их в отдельный архив (если файлов много) и пришлите. **В противном случае -0.5 балла**\n",
    "---\n",
    "* Пишите, пожалуйста, выводы и ответы на вопросы в текстовых ячейках/при помощи print в коде/как результат вывода ячейки. При их отсутствии мы не можем понять, сделали ли вы задание и понимаете, что происходит, и **поэтому будем снижать баллы**\n",
    "* Если алгоритм не сказано реализовывать явно, его всегда можно импортировать из библиотеки.\n",
    "---\n",
    "* Про графики. _Штрафы будут применяться к каждому результату команды отображения графика (plt.show() и др. аналогичные). Исключением являются графики, генерируемые функциями каких-либо сторонних библиотек, если их нельзя кастомизировать_\n",
    "\n",
    "    * должно быть название (plt.title) графика; **В противном случае &ndash; -0.05 балла**\n",
    "    * на графиках должны быть подписаны оси (plt.xlabel, plt.ylabel); **В противном случае &ndash; -0.025 балла за каждую ось**\n",
    "    * должны быть подписаны единицы измерения (если это возможно); **В противном случае &ndash; -0.025 балла за каждую ось**\n",
    "    * все названия должны быть понятны любому человеку, знакомому с терминологией, без заглядывания в код; **В противном случае &ndash; -0.05 балла**\n",
    "    * подписи тиков на осях не должны сливаться как на одной оси, так и между ними; **В противном случае &ndash; -0.025 балла за каждую ось**\n",
    "    * если изображено несколько сущностей на одном холсте (например несколько функций), то необходима поясняющая легенда (plt.legend); **В противном случае &ndash; -0.05 балла**\n",
    "    * все линии на графиках должны быть чётко видны (нет похожих цветов или цветов, сливающихся с фоном); **В противном случае &ndash; -0.05 балла**\n",
    "    * если отображена величина, имеющая очевидный диапазон значений (например, проценты могут быть от 0 до 100), то желательно масштабировать ось на весь диапазон значений (исключением является случай, когда вам необходимо показать малое отличие, которое незаметно в таких масштабах);\n",
    "    * графики должны быть не супер-микро и не супер-макро по размерам, так, чтобы можно было увидеть все, что нужно.\n",
    "    * при необходимости улучшения наглядности графиков, можно пользоваться логарифмической шкалой по осям x/y.\n",
    "    \n",
    "### А также..\n",
    "\n",
    "* Для удобства поиска вопросов, на которые от вас просят ответа, мы пометили их знаком **(?)**\n",
    "* Знак **(!)** означает, что выполнение замечания необходимо для **возможности получения полного балла**\n",
    "* Даем до +0.3 баллов за выдающиеся успехи по субъективному мнению проверяющих. Этот **бонус** не апеллируется\n",
    "\n",
    "### О задании\n",
    "\n",
    "В этом задании вам предстоит воспользоваться возможностями bootstraping для оценки смещения и разброса алгоритмов машинного обучения. Делать мы это будем на данных boston. \n",
    "Также в задании вам будет предложено пообучать готовые модели градиентного бустинга и CatBoost."
   ]
  },
  {
   "cell_type": "markdown",
   "metadata": {},
   "source": [
    "**Напоминание:**\n",
    "    \n",
    "* Все ваши графики должны быть **\"красивыми\"** --- подробнее о том, как их оформлять, можно найти в первом практическом задании. При несоответствии какиму-то из критериев вам могут снять баллы.\n",
    "* Пишите в текстовых ячейках/print в коде ответы на **все вопросы из заданий/просьбы сделать выводы** --- при их отсутствии мы не можем понять, сделали ли вы задание и понимаете, что происходит, и поэтому будем снижать баллы"
   ]
  },
  {
   "cell_type": "markdown",
   "metadata": {},
   "source": [
    "## Часть 1. Bias-Variance Decomposition"
   ]
  },
  {
   "cell_type": "code",
   "execution_count": 246,
   "metadata": {},
   "outputs": [],
   "source": [
    "import numpy as np\n",
    "import pandas as pd\n",
    "from matplotlib import pyplot as plt\n",
    "%matplotlib inline"
   ]
  },
  {
   "cell_type": "code",
   "execution_count": 49,
   "metadata": {},
   "outputs": [],
   "source": [
    "from sklearn.datasets import load_boston"
   ]
  },
  {
   "cell_type": "code",
   "execution_count": 50,
   "metadata": {},
   "outputs": [],
   "source": [
    "boston = load_boston()"
   ]
  },
  {
   "cell_type": "code",
   "execution_count": 199,
   "metadata": {},
   "outputs": [],
   "source": [
    "X = boston[\"data\"]\n",
    "y = boston[\"target\"]"
   ]
  },
  {
   "cell_type": "code",
   "execution_count": 52,
   "metadata": {},
   "outputs": [
    {
     "data": {
      "text/plain": [
       "((506, 13), (506,))"
      ]
     },
     "execution_count": 52,
     "metadata": {},
     "output_type": "execute_result"
    }
   ],
   "source": [
    "X.shape, y.shape"
   ]
  },
  {
   "cell_type": "markdown",
   "metadata": {},
   "source": [
    "### Вычисление bias и variance с помощью бутстрапа\n",
    "На лекции была выведено следующая формула, показывающая, как можно представить ошибку алгоритма регрессии в виде суммы трех компонент:\n",
    "$$\n",
    "L(\\mu) = \n",
    "    \\mathbb{E}_{x, y}\\bigl[\\mathbb{E}_{X}\\bigl[ (y - \\mu(X)(x))^2 \\bigr]\\bigr] = \n",
    "$$\n",
    "$$\n",
    "    \\underbrace{\\mathbb{E}_{x, y}\\bigl[(y - \\mathbb{E}[y|x] )^2\\bigr]}_{\\text{шум}} + \\underbrace{\\mathbb{E}_{x}\\bigl[(\\mathbb{E}_{X}[\\mu(X)(x)] - \\mathbb{E}[y|x] )^2\\bigr]}_{\\text{смещение}} +\n",
    "    \\underbrace{\\mathbb{E}_{x}\\bigl[\\mathbb{E}_{X}\\bigl[(\\mu(X)(x) - \\mathbb{E}_{X}[\\mu(X)(x)] )^2\\bigr]\\bigr]}_{\\text{разброс}},\n",
    "$$\n",
    "* $\\mu(X)$ — алгоритм, обученный по выборке $X = \\{(x_1, y_1), \\dots (x_\\ell, y_\\ell)\\}$;\n",
    "* $\\mu(X)(x)$ — ответ алгоритма, обученного по выборке $X$, на объекте $x$;\n",
    "* $\\mathbb{E}_{X}$ — мат. ожидание по всем возможным выборкам;\n",
    "* $\\mathbb{E}_{X}[\\mu(X)(x)]$ — \"средний\" ответ алгоритма, обученного по всем возможным выборкам $X$, на объекте $x$.\n",
    "    \n",
    "С помощью этой формулы мы можем анализировать свойства алгоритма обучения модели $\\mu$, если зададим вероятностную модель порождения пар $p(x, y)$.\n",
    "\n",
    "В реальных задачах мы, конечно же, не знаем распределение на парах объект - правильный ответ. Однако у нас есть набор семплов из этого распределения (обучающую выборка), и мы можем использовать его, чтобы оценивать математические ожидания. Для оценки мат. ожиданий по выборкам мы будем пользоваться бутстрэпом - методом генерации \"новых\" выборок из одной с помощью выбора объектов с возвращением. Разберем несколько шагов на пути к оценке смещения и разброса.\n",
    "\n",
    "#### Приближенное вычисление интегралов\n",
    "На занятиях мы разбирали примеры аналитического вычисления смещения и разброса нескольких алгоритмов обучения. Для большинства моделей данных и алгоритмов обучения аналитически рассчитать математические ожидания в формулах не удастся. Однако мат. ожидания можно оценивать приближенно. Чтобы оценить математическое ожидание $\\mathbb{E}_{\\bar z} f(\\bar z)$ функции от многомерной случайной величины $\\bar z = (z_1, \\dots, z_d)$, $\\bar z \\sim p(\\bar z)$, можно сгенерировать выборку из распределения $p(\\bar z)$ и усреднить значение функции на элементах этой выборки:\n",
    "$$\\mathbb{E}_{\\bar z} f(z) = \\int f(\\bar z) p(\\bar z) d \\bar z \\approx \\frac 1 m \\sum_{i=1}^m f(\\bar z_i), \\, \\bar z_i \\sim p(\\bar z), i = 1, \\dots, m.$$\n",
    "\n",
    "Например, оценим $\\mathbb{E}_z z^2,$ $z \\sim \\mathcal{N}(\\mu=5, \\sigma=3)$ (из теории вероятностей мы знаем, что\n",
    "$\\mathbb{E}_z z^2 = \\sigma^2 + \\mu^2 = 34$):"
   ]
  },
  {
   "cell_type": "code",
   "execution_count": 53,
   "metadata": {},
   "outputs": [
    {
     "data": {
      "text/plain": [
       "34.395573482572495"
      ]
     },
     "execution_count": 53,
     "metadata": {},
     "output_type": "execute_result"
    }
   ],
   "source": [
    "z = np.random.normal(loc=5, scale=3, size=1000)\n",
    "(z**2).mean()"
   ]
  },
  {
   "cell_type": "markdown",
   "metadata": {},
   "source": [
    "#### Оценивание $\\mathbb{E}_{x, y}$\n",
    "Оценить мат. ожидания по $x$ и по $x, y$, встречающиеся во всех трех компонентах разложения, несложно, потому что у нас есть выборка объектов из распределения данных $p(x, y)$:\n",
    "$$ \\mathbb{E}_{x} f(x) \\approx \\frac 1 N \\sum_{i=1}^N f(x_i), \\quad\n",
    "\\mathbb{E}_{x, y} f(x, y) \\approx \\frac 1 N \\sum_{i=1}^N f(x_i, y_i),$$\n",
    "где $N$ - число объектов в выборке, $\\{(x_i, y_i)\\}_{i=1}^N$ - сама выборка. \n",
    "\n",
    "#### Оценивание $\\mathbb{E}_X$ с помощью бутстрапа\n",
    "Чтобы оценить мат. ожидание по $X$, нам понадобится выборка из выборок:\n",
    "$$\\mathbb{E}_X f(X) \\approx \\frac 1 s \\sum_{j=1}^s f(X_j),$$\n",
    "где $X_j$ - $j$-я выборка. Чтобы их получить, мы можем воспользоваться бутстрапом - методом генерации выборок на основе выбора объектов с возвращением. Чтобы составить одну выборку, будем $N$ раз выбирать индекс объекта $i \\sim \\text{Uniform}(1 \\dots N)$ и добавлять $i$-ю пару (объект, целевая переменная) в выборку. В результате в каждой выборке могут появиться повторяющиеся объекты, а какие-то объекты могут вовсе не войти в некоторые выборки.\n",
    "\n",
    "#### Итоговый алгоритм оценки смещения и разброса алгоритма $a$\n",
    "1. Сгенерировать $s$ выборок $X_j$ методом бутстрапа.\n",
    "1. На каждой выборке $X_j$ обучить алгоритм $a_j$.\n",
    "1. Для каждой выборки $X_j$ определить множество объектов $T_j$, не вошедших в нее (out-of-bag). Вычислить предсказания алгоритма $a_j$ на объектах $T_j$. \n",
    "\n",
    "Поскольку у нас есть только один ответ для каждого объекта, мы будем считать шум равным 0, а $\\mathbb{E}[y|x]$ равным имеющемуся правильному ответу для объекта $x$. \n",
    "\n",
    "Итоговые оценки:\n",
    "* Смещение: для одного объекта - квадрат разности среднего предсказания и правильного ответа. Среднее предсказание берется только по тем алгоритмам $a_j$, для которых этот объект входил в out-of-bag выборку $T_j$. Для получения общего смещения выполнить усреденение смещений по объектам.\n",
    "* Разброс: для одного объекта - выборочная дисперсия предсказаний алгоритмов $a_j$, для которых этот объект входил в out-of-bag выборку $T_j$. Для получения общего разброса выполнить усреденение разбросов по объектам.\n",
    "* Ошибка $L$: усреднить квадраты разностей предсказания и правильного ответа по всем выполненным предсказаниям для всех объектов.\n",
    "\n",
    "В результате должно получиться, что ошибка приблизительно равна сумме смещения и разброса!\n",
    "\n",
    "Алгоритм также вкратце описан по [ссылке](https://web.engr.oregonstate.edu/~tgd/classes/534/slides/part9.pdf) (слайды 19-21).\n",
    "\n",
    "__Задание 1. (1.5 баллa)__\n",
    "\n",
    "Реализуйте описанный алгоритм. Обратите внимание, что если объект не вошел ни в одну из out-of-bag выборок, учитывать его в вычислении итоговых величин не нужно. Как обычно, разрешается использовать только один цикл - по выборкам (от 0 до num_runs-1)."
   ]
  },
  {
   "cell_type": "code",
   "execution_count": 54,
   "metadata": {},
   "outputs": [],
   "source": [
    "def compute_biase_variance(regressor, X, y, num_runs=1000):\n",
    "    \"\"\"\n",
    "    :param regressor: sklearn estimator with fit(...) and predict(...) method\n",
    "    :param X: numpy-array representing training set ob objects, shape [n_obj, n_feat]\n",
    "    :param y: numpy-array representing target for training objects, shape [n_obj]\n",
    "    :param num_runs: int, number of samples (s in the description of the algorithm)\n",
    "    \n",
    "    :returns: bias (float), variance (float), error (float) \n",
    "    each value is computed using bootstrap\n",
    "    \"\"\"\n",
    "    ### your code here ╰( ͡° ͜ʖ ͡° )つ──☆*:・ﾟ\n",
    "    from numpy.random import randint\n",
    "    \n",
    "    N = X.shape[0]\n",
    "    new_x = np.empty((N, num_runs))\n",
    "    new_x[:] = np.nan\n",
    "    for i in range(num_runs):\n",
    "        Ind = randint(low=0, high=N, size=N)\n",
    "        X_i = X[Ind]\n",
    "        y_i = y[Ind]\n",
    "        model = regressor()\n",
    "        model.fit(X_i, y_i)\n",
    "        y_pred_i = model.predict(np.delete(X, Ind, axis=0))\n",
    "        new_x[np.delete(np.arange(0, N), Ind), i] = y_pred_i\n",
    "    error = (y[:,np.newaxis] - new_x)**2\n",
    "    error = np.nanmean(np.nanmean(error,axis=1))\n",
    "    bias = np.mean((np.nanmean(new_x, axis=1) - y[np.all(np.isnan(new_x), axis=1)== False])**2)\n",
    "    variance = np.mean((np.nanstd(new_x, axis=1))**2)\n",
    "    return bias, variance, error"
   ]
  },
  {
   "cell_type": "markdown",
   "metadata": {},
   "source": [
    "**Задание 2. (0.5 баллa)**\n",
    "\n",
    "**(0.3 балла)** Оцените смещение, разброс и ошибку для трех алгоритмов с гиперпараметрами по умолчанию: линейная регрессия, решающее дерево, случайный лес.\n"
   ]
  },
  {
   "cell_type": "code",
   "execution_count": 55,
   "metadata": {},
   "outputs": [
    {
     "name": "stdout",
     "output_type": "stream",
     "text": [
      "Линейная регрессия (23.77183971899191, 0.9468286659358603, 24.71866838492777)\n",
      "Решающее дерево (10.306445043936877, 13.158687865483328, 23.465132909420202)\n",
      "Случайный лес (10.551403478002602, 2.2198500928214773, 12.77125357082408)\n"
     ]
    }
   ],
   "source": [
    "### your code here ╰( ͡° ͜ʖ ͡° )つ──☆*:・ﾟ\n",
    "from sklearn.linear_model import LinearRegression\n",
    "from sklearn.tree import DecisionTreeRegressor\n",
    "from sklearn.ensemble import RandomForestRegressor\n",
    "\n",
    "print('Линейная регрессия', compute_biase_variance(LinearRegression, X, y))\n",
    "print('Решающее дерево', compute_biase_variance(DecisionTreeRegressor, X, y))\n",
    "print('Случайный лес', compute_biase_variance(RandomForestRegressor, X, y))"
   ]
  },
  {
   "cell_type": "code",
   "execution_count": 208,
   "metadata": {},
   "outputs": [
    {
     "name": "stdout",
     "output_type": "stream",
     "text": [
      "Разброс линейная регрессия: 21.51744423117737\n",
      "Разброс дерево решений: 11.420197368421054\n",
      "Разброс случайный лес: 9.568794394736848\n"
     ]
    }
   ],
   "source": [
    "X_train, X_test, y_train, y_test = train_test_split(X, y, test_size=0.3, random_state=42)\n",
    "model = LinearRegression()\n",
    "model.fit(X_train, y_train)\n",
    "y_pred = model.predict(X_test)\n",
    "print('Разброс линейная регрессия:', np.mean((y_pred-y_test)**2))\n",
    "\n",
    "model = DecisionTreeRegressor()\n",
    "model.fit(X_train, y_train)\n",
    "y_pred = model.predict(X_test)\n",
    "print('Разброс дерево решений:', np.mean((y_pred-y_test)**2))\n",
    "\n",
    "\n",
    "model = RandomForestRegressor()\n",
    "model.fit(X_train, y_train)\n",
    "y_pred = model.predict(X_test)\n",
    "print('Разброс случайный лес:', np.mean((y_pred-y_test)**2))"
   ]
  },
  {
   "cell_type": "markdown",
   "metadata": {},
   "source": [
    "**(0.1 балл) (?)** Проанализируйте полученный результат. Согласуются ли полученные результаты с теми, что мы обсуждали на семинарах (с комментарием)?\n",
    "\n",
    "__Your answer here:__\n",
    "Линейная регрессия недообучена, так как её смещение больше всех. Алгоритм решающего дерева переобучен, так как его разброс очень большой. У случайного леса разброс меньше, чем у решающего дерева. Полученные результаты согласуются с тем, что мы обсуждали на семинарах.\n",
    "\n",
    "**(0.1 балл) (?)** Вспомните во сколько раз в теории бутстрап уменьшает разброс базового алгоритма. Выполняется ли это в ваших экспериментах? Если нет, поясните, почему.\n",
    "\n",
    "__Your answer here:__\n",
    "бустрап уменьшает разброс базового алгоритма в M раз, где M - количество алгоритмов в композиции. Так как в дефолтных параметрах количество алгоритмов в композиции 1000, то разброс должен уменьшиться в 1000 раз, однако это не выполняется. Это объясняется тем, что базовые алгоритмы скоррелированы, поэтому разброс уменьшился, но не так сильно."
   ]
  },
  {
   "cell_type": "markdown",
   "metadata": {},
   "source": [
    "### Визуализация предсказаний базовых алгоритмов бэггинга\n",
    "\n",
    "В материалах лекций можно найти изображение, похожее на мишень - визуализация алгоритмов с разным смещением и разным разбросом. В центре \"мишени\" - правильный ответ, а \"попадания\" - предсказания алгоритмов, обученных по разным выборкам. Построим похожее изображение на наших данных для трех алгоритмов. Наши \"мишени\" будут одномерными, потому что мы решаем задачу одномерной регрессии.\n",
    "\n",
    "__Задание 3. (1.5 балла)__\n",
    "\n",
    "**(0.5 балла)** Реализуйте фукнцию plot_predictions. Она должна выполнять следующие действия:\n",
    "1. Случайно выбрать num_test_objects пар объект-целевая переменная из выборки X, y. Получится две выборки: маленькая X_test, y_test (выбранные тестовые объекты) и X_train, y_train (остальные объекты).\n",
    "1. Сгенерировать num_runs выборок методом бутстарапа из X_train, y_train. На каждой выборке обучить алгоритм regressor и сделать предсказания для X_test.\n",
    "1. Нарисовать scatter-график. По оси абсцисс - объекты тестовой выборки (номера от 0 до num_test_objects-1), по оси ординат - предсказания для каждого из num_runs выборок. В итоге получится num_test_objects столбиков с точками. Для каждого тестового объекта надо отметить одним цветом (в рамках каждого номера объекта, т.е. предсказания для объектов с одинаковым номером -- одинаковым цветом, а с разными -- разными цветами) все предсказания для него, а также черным цветом отметить правильный ответ.\n",
    "1. Подпишите оси и название графика (аргумент title)."
   ]
  },
  {
   "cell_type": "code",
   "execution_count": 56,
   "metadata": {},
   "outputs": [],
   "source": [
    "def plot_predictions(regressor, X, y, num_runs=100, num_test_objects=10, title=\"\"):\n",
    "    \"\"\"\n",
    "    plot graphics described above\n",
    "    \"\"\"\n",
    "    ### your code here ╰( ͡° ͜ʖ ͡° )つ──☆*:・ﾟ\n",
    "    from sklearn.model_selection import train_test_split\n",
    "    from numpy.random import randint\n",
    "    \n",
    "    X_train, X_test, y_train, y_test = train_test_split(X, y, test_size=num_test_objects, random_state=42)\n",
    "    N = X_train.shape[0]\n",
    "    new_x = np.empty((num_test_objects, num_runs))\n",
    "    for i in range(num_runs):\n",
    "        Ind = randint(low=0, high=N-1, size=N)\n",
    "        X_i = X_train[Ind]\n",
    "        y_i = y_train[Ind]\n",
    "        model = regressor()\n",
    "        model.fit(X_i, y_i)\n",
    "        y_pred_i = model.predict(X_test)\n",
    "        new_x[:, i] = y_pred_i\n",
    "        plt.scatter(range(num_test_objects), y_pred_i, s=70, c=[i for i in range(num_test_objects)], cmap='Paired')\n",
    "    plt.title(title)\n",
    "    plt.grid()\n",
    "    plt.scatter(range(num_test_objects), y_test, c='k', s=70)\n",
    "    plt.xlabel('Номер объекта', fontsize=10)\n",
    "    plt.ylabel('Значение целевой переменной', fontsize=10)\n",
    "    plt.xticks(range(num_test_objects))\n",
    "    plt.ylim(5,52)"
   ]
  },
  {
   "cell_type": "markdown",
   "metadata": {},
   "source": [
    "**(0.5 баллa)** Нарисуйте графики для линейной регрессии, решающего дерева и случайного леса. Нарисуйте три графика в строчку (это можно сделать с помощью plt.subplot) с одинаковой осью ординат (это важно для понимания масштаба разброса у разных алгоритмов):"
   ]
  },
  {
   "cell_type": "code",
   "execution_count": 57,
   "metadata": {},
   "outputs": [
    {
     "data": {
      "image/png": "[encoded data removed]",
      "text/plain": [
       "<Figure size 1224x504 with 3 Axes>"
      ]
     },
     "metadata": {
      "needs_background": "light"
     },
     "output_type": "display_data"
    }
   ],
   "source": [
    "### your code here ╰( ͡° ͜ʖ ͡° )つ──☆*:・ﾟ\n",
    "plt.figure(figsize=(17,7))\n",
    "plt.subplot(1,3,1)\n",
    "plot_predictions(LinearRegression, X, y, title='LinearRegression')\n",
    "plt.subplot(1,3,2)\n",
    "plot_predictions(DecisionTreeRegressor, X, y, title='DecisionTreeRegressor')\n",
    "plt.subplot(1,3,3)\n",
    "plot_predictions(RandomForestRegressor, X, y, title='RandomForestRegressor')\n",
    "plt.show()"
   ]
  },
  {
   "cell_type": "markdown",
   "metadata": {},
   "source": [
    "**(0.5 балла) (?)** Для каждого графика прокомментируйте, как он характеризует смещение и разброс соответствующего алгоритма.\n",
    "\n",
    "**Your answer here:**\n",
    "На графике для линейной регрессии чёрные точки не всегда попадают в образовавшуюся линию. Это говорит о том, что смещение у данного алгоритма довольно высокое. На графике решающего дерева заметен сильный разброс, предсказания не образуют сплошную линию, есть точки, выбивающиеся из всей массы. Однако черные точки лежат примерно по середине, значит, смещение у данного алгоритма не такое сильное, как у предыдущего. На графике случайного леса не наблюдается такого сильного разброса, как у решающих деревьев. Предсказания образуют сплошные линии, а черные точки примерно находятся по середине этих линий. "
   ]
  },
  {
   "cell_type": "markdown",
   "metadata": {},
   "source": [
    "### Часть 2. Градиентный бустинг"
   ]
  },
  {
   "cell_type": "markdown",
   "metadata": {},
   "source": [
    "**Задание 4 (1 балл)**\n",
    "\n",
    "Мы будем использовать данные из [соревнования](https://www.kaggle.com/t/b710e05dc0bd424995ca94da5b639869) (вам нужны только данные, посылать туда ничего не надо).\n",
    "* Загрузите таблицу application_train.csv;\n",
    "* Запишите в Y столбец с целевой переменной (TARGET);\n",
    "* Удалите ненужные столбцы:\n",
    "    * Воспользуйтесь описанием соревнования\n",
    "    * При желании, воспользуйтесь методами feature selection/стат. методами, если хотите. Объясните, что использовали и почему решили выкинуть тот или иной признак.\n",
    "* Определите тип столбцов и заполните пропуски - стратегия произвольная;\n",
    "* Разбейте выборку в соотношении 70:30 с random_state=0. Если считаете нужным, сделайте сбалансированное по классам разбиение.\n",
    "\n",
    "Так как в данных имеется значительный дисбаланс классов, в качестве метрики качества везде будем использовать площадь под precision-recall кривой (AUC-PR)."
   ]
  },
  {
   "cell_type": "code",
   "execution_count": 247,
   "metadata": {},
   "outputs": [
    {
     "data": {
      "text/html": [
       "<div>\n",
       "<style scoped>\n",
       "    .dataframe tbody tr th:only-of-type {\n",
       "        vertical-align: middle;\n",
       "    }\n",
       "\n",
       "    .dataframe tbody tr th {\n",
       "        vertical-align: top;\n",
       "    }\n",
       "\n",
       "    .dataframe thead th {\n",
       "        text-align: right;\n",
       "    }\n",
       "</style>\n",
       "<table border=\"1\" class=\"dataframe\">\n",
       "  <thead>\n",
       "    <tr style=\"text-align: right;\">\n",
       "      <th></th>\n",
       "      <th>SK_ID_CURR</th>\n",
       "      <th>NAME_CONTRACT_TYPE</th>\n",
       "      <th>CODE_GENDER</th>\n",
       "      <th>FLAG_OWN_CAR</th>\n",
       "      <th>FLAG_OWN_REALTY</th>\n",
       "      <th>CNT_CHILDREN</th>\n",
       "      <th>AMT_INCOME_TOTAL</th>\n",
       "      <th>AMT_CREDIT</th>\n",
       "      <th>AMT_ANNUITY</th>\n",
       "      <th>AMT_GOODS_PRICE</th>\n",
       "      <th>...</th>\n",
       "      <th>FLAG_DOCUMENT_18</th>\n",
       "      <th>FLAG_DOCUMENT_19</th>\n",
       "      <th>FLAG_DOCUMENT_20</th>\n",
       "      <th>FLAG_DOCUMENT_21</th>\n",
       "      <th>AMT_REQ_CREDIT_BUREAU_HOUR</th>\n",
       "      <th>AMT_REQ_CREDIT_BUREAU_DAY</th>\n",
       "      <th>AMT_REQ_CREDIT_BUREAU_WEEK</th>\n",
       "      <th>AMT_REQ_CREDIT_BUREAU_MON</th>\n",
       "      <th>AMT_REQ_CREDIT_BUREAU_QRT</th>\n",
       "      <th>AMT_REQ_CREDIT_BUREAU_YEAR</th>\n",
       "    </tr>\n",
       "  </thead>\n",
       "  <tbody>\n",
       "    <tr>\n",
       "      <th>0</th>\n",
       "      <td>247330</td>\n",
       "      <td>Cash loans</td>\n",
       "      <td>F</td>\n",
       "      <td>N</td>\n",
       "      <td>N</td>\n",
       "      <td>0</td>\n",
       "      <td>157500.0</td>\n",
       "      <td>706410.0</td>\n",
       "      <td>67072.5</td>\n",
       "      <td>679500.0</td>\n",
       "      <td>...</td>\n",
       "      <td>0</td>\n",
       "      <td>0</td>\n",
       "      <td>0</td>\n",
       "      <td>0</td>\n",
       "      <td>0.0</td>\n",
       "      <td>0.0</td>\n",
       "      <td>0.0</td>\n",
       "      <td>0.0</td>\n",
       "      <td>0.0</td>\n",
       "      <td>1.0</td>\n",
       "    </tr>\n",
       "    <tr>\n",
       "      <th>1</th>\n",
       "      <td>425716</td>\n",
       "      <td>Cash loans</td>\n",
       "      <td>F</td>\n",
       "      <td>Y</td>\n",
       "      <td>Y</td>\n",
       "      <td>1</td>\n",
       "      <td>121500.0</td>\n",
       "      <td>545040.0</td>\n",
       "      <td>25407.0</td>\n",
       "      <td>450000.0</td>\n",
       "      <td>...</td>\n",
       "      <td>0</td>\n",
       "      <td>0</td>\n",
       "      <td>0</td>\n",
       "      <td>0</td>\n",
       "      <td>0.0</td>\n",
       "      <td>0.0</td>\n",
       "      <td>0.0</td>\n",
       "      <td>0.0</td>\n",
       "      <td>0.0</td>\n",
       "      <td>0.0</td>\n",
       "    </tr>\n",
       "    <tr>\n",
       "      <th>2</th>\n",
       "      <td>331625</td>\n",
       "      <td>Cash loans</td>\n",
       "      <td>M</td>\n",
       "      <td>Y</td>\n",
       "      <td>Y</td>\n",
       "      <td>1</td>\n",
       "      <td>225000.0</td>\n",
       "      <td>942300.0</td>\n",
       "      <td>27679.5</td>\n",
       "      <td>675000.0</td>\n",
       "      <td>...</td>\n",
       "      <td>0</td>\n",
       "      <td>0</td>\n",
       "      <td>0</td>\n",
       "      <td>0</td>\n",
       "      <td>0.0</td>\n",
       "      <td>0.0</td>\n",
       "      <td>0.0</td>\n",
       "      <td>0.0</td>\n",
       "      <td>0.0</td>\n",
       "      <td>1.0</td>\n",
       "    </tr>\n",
       "    <tr>\n",
       "      <th>3</th>\n",
       "      <td>455397</td>\n",
       "      <td>Revolving loans</td>\n",
       "      <td>F</td>\n",
       "      <td>N</td>\n",
       "      <td>Y</td>\n",
       "      <td>2</td>\n",
       "      <td>144000.0</td>\n",
       "      <td>180000.0</td>\n",
       "      <td>9000.0</td>\n",
       "      <td>180000.0</td>\n",
       "      <td>...</td>\n",
       "      <td>0</td>\n",
       "      <td>0</td>\n",
       "      <td>0</td>\n",
       "      <td>0</td>\n",
       "      <td>0.0</td>\n",
       "      <td>0.0</td>\n",
       "      <td>0.0</td>\n",
       "      <td>0.0</td>\n",
       "      <td>1.0</td>\n",
       "      <td>2.0</td>\n",
       "    </tr>\n",
       "    <tr>\n",
       "      <th>4</th>\n",
       "      <td>449114</td>\n",
       "      <td>Cash loans</td>\n",
       "      <td>F</td>\n",
       "      <td>N</td>\n",
       "      <td>Y</td>\n",
       "      <td>0</td>\n",
       "      <td>112500.0</td>\n",
       "      <td>729792.0</td>\n",
       "      <td>37390.5</td>\n",
       "      <td>630000.0</td>\n",
       "      <td>...</td>\n",
       "      <td>0</td>\n",
       "      <td>0</td>\n",
       "      <td>0</td>\n",
       "      <td>0</td>\n",
       "      <td>0.0</td>\n",
       "      <td>0.0</td>\n",
       "      <td>0.0</td>\n",
       "      <td>0.0</td>\n",
       "      <td>1.0</td>\n",
       "      <td>0.0</td>\n",
       "    </tr>\n",
       "  </tbody>\n",
       "</table>\n",
       "<p>5 rows × 121 columns</p>\n",
       "</div>"
      ],
      "text/plain": [
       "   SK_ID_CURR NAME_CONTRACT_TYPE CODE_GENDER FLAG_OWN_CAR FLAG_OWN_REALTY  \\\n",
       "0      247330         Cash loans           F            N               N   \n",
       "1      425716         Cash loans           F            Y               Y   \n",
       "2      331625         Cash loans           M            Y               Y   \n",
       "3      455397    Revolving loans           F            N               Y   \n",
       "4      449114         Cash loans           F            N               Y   \n",
       "\n",
       "   CNT_CHILDREN  AMT_INCOME_TOTAL  AMT_CREDIT  AMT_ANNUITY  AMT_GOODS_PRICE  \\\n",
       "0             0          157500.0    706410.0      67072.5         679500.0   \n",
       "1             1          121500.0    545040.0      25407.0         450000.0   \n",
       "2             1          225000.0    942300.0      27679.5         675000.0   \n",
       "3             2          144000.0    180000.0       9000.0         180000.0   \n",
       "4             0          112500.0    729792.0      37390.5         630000.0   \n",
       "\n",
       "   ... FLAG_DOCUMENT_18 FLAG_DOCUMENT_19 FLAG_DOCUMENT_20 FLAG_DOCUMENT_21  \\\n",
       "0  ...                0                0                0                0   \n",
       "1  ...                0                0                0                0   \n",
       "2  ...                0                0                0                0   \n",
       "3  ...                0                0                0                0   \n",
       "4  ...                0                0                0                0   \n",
       "\n",
       "  AMT_REQ_CREDIT_BUREAU_HOUR  AMT_REQ_CREDIT_BUREAU_DAY  \\\n",
       "0                        0.0                        0.0   \n",
       "1                        0.0                        0.0   \n",
       "2                        0.0                        0.0   \n",
       "3                        0.0                        0.0   \n",
       "4                        0.0                        0.0   \n",
       "\n",
       "   AMT_REQ_CREDIT_BUREAU_WEEK  AMT_REQ_CREDIT_BUREAU_MON  \\\n",
       "0                         0.0                        0.0   \n",
       "1                         0.0                        0.0   \n",
       "2                         0.0                        0.0   \n",
       "3                         0.0                        0.0   \n",
       "4                         0.0                        0.0   \n",
       "\n",
       "   AMT_REQ_CREDIT_BUREAU_QRT  AMT_REQ_CREDIT_BUREAU_YEAR  \n",
       "0                        0.0                         1.0  \n",
       "1                        0.0                         0.0  \n",
       "2                        0.0                         1.0  \n",
       "3                        1.0                         2.0  \n",
       "4                        1.0                         0.0  \n",
       "\n",
       "[5 rows x 121 columns]"
      ]
     },
     "execution_count": 247,
     "metadata": {},
     "output_type": "execute_result"
    }
   ],
   "source": [
    "### your code here ╰( ͡° ͜ʖ ͡° )つ──☆*:・ﾟ\n",
    "df = pd.read_csv('application_train.csv')\n",
    "Y = df.TARGET\n",
    "df = df.drop(['TARGET'], axis=1)\n",
    "df.head()"
   ]
  },
  {
   "cell_type": "code",
   "execution_count": 248,
   "metadata": {},
   "outputs": [],
   "source": [
    "cat_features = list(df.dtypes[df.dtypes == \"object\"].index)\n",
    "df[cat_features] = df[cat_features].fillna(\"NotGiven\")\n",
    "num_features = list(df.dtypes[df.dtypes != \"object\"].index)"
   ]
  },
  {
   "cell_type": "code",
   "execution_count": 249,
   "metadata": {},
   "outputs": [
    {
     "name": "stdout",
     "output_type": "stream",
     "text": [
      "SK_ID_CURR\n"
     ]
    }
   ],
   "source": [
    "for f in num_features:\n",
    "    if df[f].nunique() == df.shape[0]:\n",
    "        print(f)"
   ]
  },
  {
   "cell_type": "markdown",
   "metadata": {},
   "source": [
    "В данных есть столбец \"SK_ID_CURR\" - ID кредита, так как этот признак уникальный для каждого объекта его можно удалить."
   ]
  },
  {
   "cell_type": "code",
   "execution_count": 250,
   "metadata": {},
   "outputs": [],
   "source": [
    "df = df.drop(['SK_ID_CURR'], axis=1)\n",
    "num_features = list(df.dtypes[df.dtypes != \"object\"].index)"
   ]
  },
  {
   "cell_type": "code",
   "execution_count": 251,
   "metadata": {},
   "outputs": [
    {
     "data": {
      "text/plain": [
       "FLOORSMIN_AVG               145996\n",
       "LIVINGAPARTMENTS_AVG        147079\n",
       "LIVINGAPARTMENTS_MODE       147079\n",
       "LIVINGAPARTMENTS_MEDI       147079\n",
       "NONLIVINGAPARTMENTS_AVG     149407\n",
       "NONLIVINGAPARTMENTS_MODE    149407\n",
       "NONLIVINGAPARTMENTS_MEDI    149407\n",
       "COMMONAREA_AVG              150377\n",
       "COMMONAREA_MEDI             150377\n",
       "COMMONAREA_MODE             150377\n",
       "dtype: int64"
      ]
     },
     "execution_count": 251,
     "metadata": {},
     "output_type": "execute_result"
    }
   ],
   "source": [
    "df.isna().sum().sort_values()[-10:]"
   ]
  },
  {
   "cell_type": "code",
   "execution_count": 252,
   "metadata": {},
   "outputs": [],
   "source": [
    "from lightgbm import LGBMClassifier\n",
    "from catboost import CatBoostClassifier\n",
    "from sklearn.model_selection import train_test_split\n",
    "from sklearn.metrics import average_precision_score\n",
    "from sklearn import preprocessing\n",
    "\n",
    "X_train, X_test, y_train, y_test = train_test_split(df, Y, test_size=0.3, random_state=0)"
   ]
  },
  {
   "cell_type": "code",
   "execution_count": 253,
   "metadata": {},
   "outputs": [
    {
     "name": "stdout",
     "output_type": "stream",
     "text": [
      "0.22711863889372197\n",
      "0.23748660862580234\n",
      "0.23759903406042387\n",
      "0.23759903406042387\n",
      "0.23759903406042387\n"
     ]
    }
   ],
   "source": [
    "for threshold in [0.5, 0.6, 0.7, 0.8, 0.9]:\n",
    "    new_features = ((df[num_features].isna().sum() / df.shape[0]) > threshold)\n",
    "    drop_features = list(new_features[new_features==True].index)\n",
    "    clf = LGBMClassifier()\n",
    "    clf.fit(X_train[num_features].drop(columns=drop_features), y_train)\n",
    "    proba = clf.predict_proba(X_test[num_features].drop(columns=drop_features))\n",
    "    print(average_precision_score(y_test, proba[:, 1], average=None))"
   ]
  },
  {
   "cell_type": "code",
   "execution_count": 254,
   "metadata": {},
   "outputs": [
    {
     "data": {
      "text/html": [
       "<div>\n",
       "<style scoped>\n",
       "    .dataframe tbody tr th:only-of-type {\n",
       "        vertical-align: middle;\n",
       "    }\n",
       "\n",
       "    .dataframe tbody tr th {\n",
       "        vertical-align: top;\n",
       "    }\n",
       "\n",
       "    .dataframe thead th {\n",
       "        text-align: right;\n",
       "    }\n",
       "</style>\n",
       "<table border=\"1\" class=\"dataframe\">\n",
       "  <thead>\n",
       "    <tr style=\"text-align: right;\">\n",
       "      <th></th>\n",
       "      <th>CNT_CHILDREN</th>\n",
       "      <th>AMT_INCOME_TOTAL</th>\n",
       "      <th>AMT_CREDIT</th>\n",
       "      <th>AMT_ANNUITY</th>\n",
       "      <th>AMT_GOODS_PRICE</th>\n",
       "      <th>REGION_POPULATION_RELATIVE</th>\n",
       "      <th>DAYS_BIRTH</th>\n",
       "      <th>DAYS_EMPLOYED</th>\n",
       "      <th>DAYS_REGISTRATION</th>\n",
       "      <th>DAYS_ID_PUBLISH</th>\n",
       "      <th>...</th>\n",
       "      <th>FLAG_DOCUMENT_18</th>\n",
       "      <th>FLAG_DOCUMENT_19</th>\n",
       "      <th>FLAG_DOCUMENT_20</th>\n",
       "      <th>FLAG_DOCUMENT_21</th>\n",
       "      <th>AMT_REQ_CREDIT_BUREAU_HOUR</th>\n",
       "      <th>AMT_REQ_CREDIT_BUREAU_DAY</th>\n",
       "      <th>AMT_REQ_CREDIT_BUREAU_WEEK</th>\n",
       "      <th>AMT_REQ_CREDIT_BUREAU_MON</th>\n",
       "      <th>AMT_REQ_CREDIT_BUREAU_QRT</th>\n",
       "      <th>AMT_REQ_CREDIT_BUREAU_YEAR</th>\n",
       "    </tr>\n",
       "  </thead>\n",
       "  <tbody>\n",
       "    <tr>\n",
       "      <th>22198</th>\n",
       "      <td>0</td>\n",
       "      <td>202500.0</td>\n",
       "      <td>790434.0</td>\n",
       "      <td>33619.5</td>\n",
       "      <td>706500.0</td>\n",
       "      <td>0.009657</td>\n",
       "      <td>-19301</td>\n",
       "      <td>-419</td>\n",
       "      <td>-7974.0</td>\n",
       "      <td>-2828</td>\n",
       "      <td>...</td>\n",
       "      <td>0</td>\n",
       "      <td>0</td>\n",
       "      <td>0</td>\n",
       "      <td>0</td>\n",
       "      <td>0.0</td>\n",
       "      <td>0.0</td>\n",
       "      <td>0.0</td>\n",
       "      <td>1.0</td>\n",
       "      <td>0.0</td>\n",
       "      <td>1.0</td>\n",
       "    </tr>\n",
       "    <tr>\n",
       "      <th>133679</th>\n",
       "      <td>3</td>\n",
       "      <td>157500.0</td>\n",
       "      <td>900000.0</td>\n",
       "      <td>31887.0</td>\n",
       "      <td>900000.0</td>\n",
       "      <td>0.046220</td>\n",
       "      <td>-11976</td>\n",
       "      <td>-1274</td>\n",
       "      <td>-832.0</td>\n",
       "      <td>-3959</td>\n",
       "      <td>...</td>\n",
       "      <td>0</td>\n",
       "      <td>0</td>\n",
       "      <td>0</td>\n",
       "      <td>0</td>\n",
       "      <td>0.0</td>\n",
       "      <td>0.0</td>\n",
       "      <td>0.0</td>\n",
       "      <td>0.0</td>\n",
       "      <td>0.0</td>\n",
       "      <td>2.0</td>\n",
       "    </tr>\n",
       "    <tr>\n",
       "      <th>106217</th>\n",
       "      <td>0</td>\n",
       "      <td>202500.0</td>\n",
       "      <td>157500.0</td>\n",
       "      <td>7875.0</td>\n",
       "      <td>157500.0</td>\n",
       "      <td>0.046220</td>\n",
       "      <td>-21759</td>\n",
       "      <td>-1329</td>\n",
       "      <td>-2268.0</td>\n",
       "      <td>-3603</td>\n",
       "      <td>...</td>\n",
       "      <td>0</td>\n",
       "      <td>0</td>\n",
       "      <td>0</td>\n",
       "      <td>0</td>\n",
       "      <td>0.0</td>\n",
       "      <td>0.0</td>\n",
       "      <td>0.0</td>\n",
       "      <td>0.0</td>\n",
       "      <td>0.0</td>\n",
       "      <td>2.0</td>\n",
       "    </tr>\n",
       "    <tr>\n",
       "      <th>149637</th>\n",
       "      <td>0</td>\n",
       "      <td>157500.0</td>\n",
       "      <td>225000.0</td>\n",
       "      <td>23625.0</td>\n",
       "      <td>225000.0</td>\n",
       "      <td>0.026392</td>\n",
       "      <td>-13174</td>\n",
       "      <td>-3683</td>\n",
       "      <td>-3680.0</td>\n",
       "      <td>-4702</td>\n",
       "      <td>...</td>\n",
       "      <td>0</td>\n",
       "      <td>0</td>\n",
       "      <td>0</td>\n",
       "      <td>0</td>\n",
       "      <td>0.0</td>\n",
       "      <td>0.0</td>\n",
       "      <td>0.0</td>\n",
       "      <td>0.0</td>\n",
       "      <td>0.0</td>\n",
       "      <td>1.0</td>\n",
       "    </tr>\n",
       "    <tr>\n",
       "      <th>131246</th>\n",
       "      <td>0</td>\n",
       "      <td>157500.0</td>\n",
       "      <td>1206954.0</td>\n",
       "      <td>35419.5</td>\n",
       "      <td>945000.0</td>\n",
       "      <td>0.046220</td>\n",
       "      <td>-19603</td>\n",
       "      <td>-2545</td>\n",
       "      <td>-2939.0</td>\n",
       "      <td>-2933</td>\n",
       "      <td>...</td>\n",
       "      <td>0</td>\n",
       "      <td>0</td>\n",
       "      <td>0</td>\n",
       "      <td>0</td>\n",
       "      <td>0.0</td>\n",
       "      <td>0.0</td>\n",
       "      <td>0.0</td>\n",
       "      <td>0.0</td>\n",
       "      <td>0.0</td>\n",
       "      <td>3.0</td>\n",
       "    </tr>\n",
       "    <tr>\n",
       "      <th>...</th>\n",
       "      <td>...</td>\n",
       "      <td>...</td>\n",
       "      <td>...</td>\n",
       "      <td>...</td>\n",
       "      <td>...</td>\n",
       "      <td>...</td>\n",
       "      <td>...</td>\n",
       "      <td>...</td>\n",
       "      <td>...</td>\n",
       "      <td>...</td>\n",
       "      <td>...</td>\n",
       "      <td>...</td>\n",
       "      <td>...</td>\n",
       "      <td>...</td>\n",
       "      <td>...</td>\n",
       "      <td>...</td>\n",
       "      <td>...</td>\n",
       "      <td>...</td>\n",
       "      <td>...</td>\n",
       "      <td>...</td>\n",
       "      <td>...</td>\n",
       "    </tr>\n",
       "    <tr>\n",
       "      <th>147438</th>\n",
       "      <td>1</td>\n",
       "      <td>157500.0</td>\n",
       "      <td>270000.0</td>\n",
       "      <td>13500.0</td>\n",
       "      <td>270000.0</td>\n",
       "      <td>0.031329</td>\n",
       "      <td>-10380</td>\n",
       "      <td>-921</td>\n",
       "      <td>-4866.0</td>\n",
       "      <td>-3042</td>\n",
       "      <td>...</td>\n",
       "      <td>0</td>\n",
       "      <td>0</td>\n",
       "      <td>0</td>\n",
       "      <td>0</td>\n",
       "      <td>0.0</td>\n",
       "      <td>0.0</td>\n",
       "      <td>0.0</td>\n",
       "      <td>0.0</td>\n",
       "      <td>0.0</td>\n",
       "      <td>6.0</td>\n",
       "    </tr>\n",
       "    <tr>\n",
       "      <th>104965</th>\n",
       "      <td>0</td>\n",
       "      <td>247500.0</td>\n",
       "      <td>946764.0</td>\n",
       "      <td>40243.5</td>\n",
       "      <td>765000.0</td>\n",
       "      <td>0.046220</td>\n",
       "      <td>-19921</td>\n",
       "      <td>-2697</td>\n",
       "      <td>-3394.0</td>\n",
       "      <td>-1476</td>\n",
       "      <td>...</td>\n",
       "      <td>0</td>\n",
       "      <td>0</td>\n",
       "      <td>0</td>\n",
       "      <td>0</td>\n",
       "      <td>0.0</td>\n",
       "      <td>0.0</td>\n",
       "      <td>0.0</td>\n",
       "      <td>0.0</td>\n",
       "      <td>1.0</td>\n",
       "      <td>2.0</td>\n",
       "    </tr>\n",
       "    <tr>\n",
       "      <th>65197</th>\n",
       "      <td>0</td>\n",
       "      <td>67500.0</td>\n",
       "      <td>176328.0</td>\n",
       "      <td>10251.0</td>\n",
       "      <td>139500.0</td>\n",
       "      <td>0.022625</td>\n",
       "      <td>-15573</td>\n",
       "      <td>-1741</td>\n",
       "      <td>-3283.0</td>\n",
       "      <td>-4747</td>\n",
       "      <td>...</td>\n",
       "      <td>0</td>\n",
       "      <td>0</td>\n",
       "      <td>0</td>\n",
       "      <td>0</td>\n",
       "      <td>0.0</td>\n",
       "      <td>0.0</td>\n",
       "      <td>0.0</td>\n",
       "      <td>0.0</td>\n",
       "      <td>0.0</td>\n",
       "      <td>2.0</td>\n",
       "    </tr>\n",
       "    <tr>\n",
       "      <th>157695</th>\n",
       "      <td>1</td>\n",
       "      <td>135000.0</td>\n",
       "      <td>270000.0</td>\n",
       "      <td>13500.0</td>\n",
       "      <td>270000.0</td>\n",
       "      <td>0.026392</td>\n",
       "      <td>-11734</td>\n",
       "      <td>-2993</td>\n",
       "      <td>-1125.0</td>\n",
       "      <td>-1447</td>\n",
       "      <td>...</td>\n",
       "      <td>0</td>\n",
       "      <td>0</td>\n",
       "      <td>0</td>\n",
       "      <td>0</td>\n",
       "      <td>0.0</td>\n",
       "      <td>0.0</td>\n",
       "      <td>0.0</td>\n",
       "      <td>0.0</td>\n",
       "      <td>0.0</td>\n",
       "      <td>3.0</td>\n",
       "    </tr>\n",
       "    <tr>\n",
       "      <th>162631</th>\n",
       "      <td>0</td>\n",
       "      <td>81000.0</td>\n",
       "      <td>71955.0</td>\n",
       "      <td>7137.0</td>\n",
       "      <td>67500.0</td>\n",
       "      <td>0.019101</td>\n",
       "      <td>-23037</td>\n",
       "      <td>365243</td>\n",
       "      <td>-13421.0</td>\n",
       "      <td>-4427</td>\n",
       "      <td>...</td>\n",
       "      <td>0</td>\n",
       "      <td>0</td>\n",
       "      <td>0</td>\n",
       "      <td>0</td>\n",
       "      <td>0.0</td>\n",
       "      <td>0.0</td>\n",
       "      <td>0.0</td>\n",
       "      <td>0.0</td>\n",
       "      <td>0.0</td>\n",
       "      <td>4.0</td>\n",
       "    </tr>\n",
       "  </tbody>\n",
       "</table>\n",
       "<p>64578 rows × 88 columns</p>\n",
       "</div>"
      ],
      "text/plain": [
       "        CNT_CHILDREN  AMT_INCOME_TOTAL  AMT_CREDIT  AMT_ANNUITY  \\\n",
       "22198              0          202500.0    790434.0      33619.5   \n",
       "133679             3          157500.0    900000.0      31887.0   \n",
       "106217             0          202500.0    157500.0       7875.0   \n",
       "149637             0          157500.0    225000.0      23625.0   \n",
       "131246             0          157500.0   1206954.0      35419.5   \n",
       "...              ...               ...         ...          ...   \n",
       "147438             1          157500.0    270000.0      13500.0   \n",
       "104965             0          247500.0    946764.0      40243.5   \n",
       "65197              0           67500.0    176328.0      10251.0   \n",
       "157695             1          135000.0    270000.0      13500.0   \n",
       "162631             0           81000.0     71955.0       7137.0   \n",
       "\n",
       "        AMT_GOODS_PRICE  REGION_POPULATION_RELATIVE  DAYS_BIRTH  \\\n",
       "22198          706500.0                    0.009657      -19301   \n",
       "133679         900000.0                    0.046220      -11976   \n",
       "106217         157500.0                    0.046220      -21759   \n",
       "149637         225000.0                    0.026392      -13174   \n",
       "131246         945000.0                    0.046220      -19603   \n",
       "...                 ...                         ...         ...   \n",
       "147438         270000.0                    0.031329      -10380   \n",
       "104965         765000.0                    0.046220      -19921   \n",
       "65197          139500.0                    0.022625      -15573   \n",
       "157695         270000.0                    0.026392      -11734   \n",
       "162631          67500.0                    0.019101      -23037   \n",
       "\n",
       "        DAYS_EMPLOYED  DAYS_REGISTRATION  DAYS_ID_PUBLISH  ...  \\\n",
       "22198            -419            -7974.0            -2828  ...   \n",
       "133679          -1274             -832.0            -3959  ...   \n",
       "106217          -1329            -2268.0            -3603  ...   \n",
       "149637          -3683            -3680.0            -4702  ...   \n",
       "131246          -2545            -2939.0            -2933  ...   \n",
       "...               ...                ...              ...  ...   \n",
       "147438           -921            -4866.0            -3042  ...   \n",
       "104965          -2697            -3394.0            -1476  ...   \n",
       "65197           -1741            -3283.0            -4747  ...   \n",
       "157695          -2993            -1125.0            -1447  ...   \n",
       "162631         365243           -13421.0            -4427  ...   \n",
       "\n",
       "        FLAG_DOCUMENT_18  FLAG_DOCUMENT_19  FLAG_DOCUMENT_20  \\\n",
       "22198                  0                 0                 0   \n",
       "133679                 0                 0                 0   \n",
       "106217                 0                 0                 0   \n",
       "149637                 0                 0                 0   \n",
       "131246                 0                 0                 0   \n",
       "...                  ...               ...               ...   \n",
       "147438                 0                 0                 0   \n",
       "104965                 0                 0                 0   \n",
       "65197                  0                 0                 0   \n",
       "157695                 0                 0                 0   \n",
       "162631                 0                 0                 0   \n",
       "\n",
       "        FLAG_DOCUMENT_21  AMT_REQ_CREDIT_BUREAU_HOUR  \\\n",
       "22198                  0                         0.0   \n",
       "133679                 0                         0.0   \n",
       "106217                 0                         0.0   \n",
       "149637                 0                         0.0   \n",
       "131246                 0                         0.0   \n",
       "...                  ...                         ...   \n",
       "147438                 0                         0.0   \n",
       "104965                 0                         0.0   \n",
       "65197                  0                         0.0   \n",
       "157695                 0                         0.0   \n",
       "162631                 0                         0.0   \n",
       "\n",
       "        AMT_REQ_CREDIT_BUREAU_DAY  AMT_REQ_CREDIT_BUREAU_WEEK  \\\n",
       "22198                         0.0                         0.0   \n",
       "133679                        0.0                         0.0   \n",
       "106217                        0.0                         0.0   \n",
       "149637                        0.0                         0.0   \n",
       "131246                        0.0                         0.0   \n",
       "...                           ...                         ...   \n",
       "147438                        0.0                         0.0   \n",
       "104965                        0.0                         0.0   \n",
       "65197                         0.0                         0.0   \n",
       "157695                        0.0                         0.0   \n",
       "162631                        0.0                         0.0   \n",
       "\n",
       "        AMT_REQ_CREDIT_BUREAU_MON  AMT_REQ_CREDIT_BUREAU_QRT  \\\n",
       "22198                         1.0                        0.0   \n",
       "133679                        0.0                        0.0   \n",
       "106217                        0.0                        0.0   \n",
       "149637                        0.0                        0.0   \n",
       "131246                        0.0                        0.0   \n",
       "...                           ...                        ...   \n",
       "147438                        0.0                        0.0   \n",
       "104965                        0.0                        1.0   \n",
       "65197                         0.0                        0.0   \n",
       "157695                        0.0                        0.0   \n",
       "162631                        0.0                        0.0   \n",
       "\n",
       "        AMT_REQ_CREDIT_BUREAU_YEAR  \n",
       "22198                          1.0  \n",
       "133679                         2.0  \n",
       "106217                         2.0  \n",
       "149637                         1.0  \n",
       "131246                         3.0  \n",
       "...                            ...  \n",
       "147438                         6.0  \n",
       "104965                         2.0  \n",
       "65197                          2.0  \n",
       "157695                         3.0  \n",
       "162631                         4.0  \n",
       "\n",
       "[64578 rows x 88 columns]"
      ]
     },
     "execution_count": 254,
     "metadata": {},
     "output_type": "execute_result"
    }
   ],
   "source": [
    "new_features = ((df[num_features].isna().sum() / df.shape[0]) > 0.6)\n",
    "drop_features = list(new_features[new_features==True].index)\n",
    "X_train[num_features].drop(columns=drop_features)\n",
    "X_test[num_features].drop(columns=drop_features)"
   ]
  },
  {
   "cell_type": "markdown",
   "metadata": {},
   "source": [
    "Тут мы удалили признаки, где пропуски составляют больше, чем 60%, при этом качество модели улучшается."
   ]
  },
  {
   "cell_type": "code",
   "execution_count": 255,
   "metadata": {},
   "outputs": [
    {
     "data": {
      "text/plain": [
       "LGBMClassifier()"
      ]
     },
     "execution_count": 255,
     "metadata": {},
     "output_type": "execute_result"
    }
   ],
   "source": [
    "clf = LGBMClassifier()\n",
    "clf.fit(X_train[num_features], y_train)\n"
   ]
  },
  {
   "cell_type": "code",
   "execution_count": 256,
   "metadata": {},
   "outputs": [],
   "source": [
    "num_features_drop = np.array(num_features)[clf.feature_importances_ == 0]\n",
    "num_features = np.array(num_features)[clf.feature_importances_ > 0]"
   ]
  },
  {
   "cell_type": "code",
   "execution_count": 257,
   "metadata": {},
   "outputs": [],
   "source": [
    "df = df.drop(columns=num_features_drop)"
   ]
  },
  {
   "cell_type": "code",
   "execution_count": 258,
   "metadata": {},
   "outputs": [
    {
     "name": "stdout",
     "output_type": "stream",
     "text": [
      "0.238\n"
     ]
    }
   ],
   "source": [
    "clf = LGBMClassifier()\n",
    "clf.fit(X_train[num_features], y_train)\n",
    "proba = clf.predict_proba(X_test[num_features])\n",
    "print(round(average_precision_score(y_test, proba[:, 1], average=None), 3))"
   ]
  },
  {
   "cell_type": "markdown",
   "metadata": {},
   "source": [
    "Здесь отобраны признаки, которые были использованы при построении классификатора LGBMClassifier.(наиболее важные признаки)"
   ]
  },
  {
   "cell_type": "code",
   "execution_count": 259,
   "metadata": {},
   "outputs": [],
   "source": [
    "df[num_features]=df[num_features].fillna(df[num_features].mean())"
   ]
  },
  {
   "cell_type": "code",
   "execution_count": 260,
   "metadata": {},
   "outputs": [],
   "source": [
    "X_train, X_test, y_train, y_test = train_test_split(df, Y, test_size=0.3, random_state=0)"
   ]
  },
  {
   "cell_type": "markdown",
   "metadata": {},
   "source": [
    "**Задание 5 (1 балл)**"
   ]
  },
  {
   "cell_type": "markdown",
   "metadata": {},
   "source": [
    "**(0.7 баллa)** Обучите реализации градиентного бустинга LightGBM и Catboost на вещественных признаках без подбора параметров. \n",
    "\n",
    "**(0.3 баллa) (?) Получилась ли заметная разнциа в качестве? Как вы думаете, почему?**\n",
    "\n",
    "**Замечание:**\n",
    "* В этом и последующих экспериментах необходимо измерять время обучения моделей."
   ]
  },
  {
   "cell_type": "code",
   "execution_count": 136,
   "metadata": {},
   "outputs": [
    {
     "name": "stdout",
     "output_type": "stream",
     "text": [
      "Время обучения:  1.24 сек\n",
      "PR-AUC (LGBMClassifier) =   0.241\n",
      "Время обучения:  19.04 сек\n",
      "PR-AUC (CatBoostClassifier) =   0.236\n"
     ]
    }
   ],
   "source": [
    "### your code here ╰( ͡° ͜ʖ ͡° )つ──☆*:・ﾟ\n",
    "import timeit\n",
    "\n",
    "clf = LGBMClassifier()\n",
    "start_time = timeit.default_timer()\n",
    "clf.fit(X_train[num_features], y_train)\n",
    "print('Время обучения: ', round(timeit.default_timer() - start_time, 2), 'сек')\n",
    "proba = clf.predict_proba(X_test[num_features])\n",
    "print('PR-AUC (LGBMClassifier) =  ', round(average_precision_score(y_test, proba[:, 1]), 3))\n",
    "\n",
    "clf = CatBoostClassifier(verbose=False)\n",
    "start_time = timeit.default_timer()\n",
    "clf.fit(X_train[num_features], y_train)\n",
    "print('Время обучения: ', round(timeit.default_timer() - start_time, 2), 'сек')\n",
    "proba = clf.predict_proba(X_test[num_features])\n",
    "print('PR-AUC (CatBoostClassifier) =  ', round(average_precision_score(y_test, proba[:, 1], average=None), 3))"
   ]
  },
  {
   "cell_type": "markdown",
   "metadata": {},
   "source": [
    "**Your answer here:**\n",
    "\n",
    "качество алгоритма LGBMC немного лучше, но всего на 1%. Заметной разницы между алгоритмами нет, так как оба алгоритма работают на вещественных признаках примерно одинакого и не используются категориальные признаки. Однако алгоритм CatBoost работает заметно дольше."
   ]
  },
  {
   "cell_type": "markdown",
   "metadata": {},
   "source": [
    "__Задание 6. (2 балла)__\n",
    "\n",
    "**(1.5 баллa)** Подберите оптимальные с точки зрения метрики качества параметры алгоритмов, изменяя:\n",
    "\n",
    "* глубину деревьев;\n",
    "* количество деревьев;\n",
    "* темп обучения;\n",
    "\n",
    "Масштаб значений предлагается посмотреть [тут](https://github.com/esokolov/ml-course-hse/blob/master/2019-fall/seminars/sem10-gbm.ipynb).\n",
    "\n",
    "**(0.5 баллa) (?)** Проанализируйте соотношения получившихся оптимальных глубины и количества деревьев в зависимости от алгоритма.** \n",
    "\n",
    "**Если на перебор гиперпараметров уходит много времени, то переберите значениях каких-нибудь 1-2 гиперпараметров, а не всех предложенных 3**"
   ]
  },
  {
   "cell_type": "code",
   "execution_count": 223,
   "metadata": {},
   "outputs": [
    {
     "data": {
      "text/plain": [
       "GridSearchCV(cv=3, estimator=LGBMClassifier(random_state=241), n_jobs=-1,\n",
       "             param_grid={'learning_rate': [0.001, 0.01, 0.1],\n",
       "                         'max_depth': [3, 5, 7],\n",
       "                         'n_estimators': [100, 500, 700]},\n",
       "             scoring='average_precision')"
      ]
     },
     "execution_count": 223,
     "metadata": {},
     "output_type": "execute_result"
    }
   ],
   "source": [
    "### your code here ╰( ͡° ͜ʖ ͡° )つ──☆*:・ﾟ\n",
    "from sklearn.model_selection import GridSearchCV\n",
    "from sklearn.model_selection import KFold, cross_val_score\n",
    "n_trees = [100, 500, 700]\n",
    "gs = GridSearchCV(LGBMClassifier(random_state=241),\n",
    "                  param_grid={\n",
    "                      'learning_rate': [0.001, 0.01, 0.1],\n",
    "                      'max_depth': [3, 5, 7],\n",
    "                      'n_estimators': n_trees,\n",
    "                  },\n",
    "                  cv=3,\n",
    "                  scoring='average_precision', n_jobs=-1)\n",
    "gs.fit(df[num_features], Y)"
   ]
  },
  {
   "cell_type": "code",
   "execution_count": 225,
   "metadata": {},
   "outputs": [
    {
     "data": {
      "text/plain": [
       "{'learning_rate': 0.1, 'max_depth': 3, 'n_estimators': 500}"
      ]
     },
     "execution_count": 225,
     "metadata": {},
     "output_type": "execute_result"
    }
   ],
   "source": [
    "gs.best_params_"
   ]
  },
  {
   "cell_type": "code",
   "execution_count": 224,
   "metadata": {},
   "outputs": [
    {
     "data": {
      "text/plain": [
       "GridSearchCV(cv=3,\n",
       "             estimator=<catboost.core.CatBoostClassifier object at 0x000002426062F3A0>,\n",
       "             n_jobs=-1,\n",
       "             param_grid={'learning_rate': [0.001, 0.01, 0.1],\n",
       "                         'max_depth': [3, 5, 7],\n",
       "                         'n_estimators': [100, 500, 700]},\n",
       "             scoring='average_precision')"
      ]
     },
     "execution_count": 224,
     "metadata": {},
     "output_type": "execute_result"
    }
   ],
   "source": [
    "gs_cb = GridSearchCV(CatBoostClassifier(random_state=241, verbose=False),\n",
    "                  param_grid={\n",
    "                      'learning_rate': [0.001, 0.01, 0.1],\n",
    "                      'max_depth': [3, 5, 7],\n",
    "                      'n_estimators': n_trees,\n",
    "                  },\n",
    "                  cv=3,\n",
    "                  scoring='average_precision', n_jobs=-1)\n",
    "gs_cb.fit(df[num_features], Y)"
   ]
  },
  {
   "cell_type": "code",
   "execution_count": 226,
   "metadata": {},
   "outputs": [
    {
     "data": {
      "text/plain": [
       "{'learning_rate': 0.1, 'max_depth': 3, 'n_estimators': 500}"
      ]
     },
     "execution_count": 226,
     "metadata": {},
     "output_type": "execute_result"
    }
   ],
   "source": [
    "gs_cb.best_params_"
   ]
  },
  {
   "cell_type": "markdown",
   "metadata": {},
   "source": [
    "**Your answer here:**\n",
    "для алгоритма LGBMClassifier и CatBoostClassifier оптимальные параметры получились одинаковыми, для данных алгоритмов оптимальной глубиной деревьев оказалась наименьшая глубина и среднее количество деревьев.(то есть не максимальное и не наименьшее)"
   ]
  },
  {
   "cell_type": "markdown",
   "metadata": {},
   "source": [
    "**Задание 7 (1.5 баллa)**\n",
    "\n",
    "**(1 балл)** Добавьте категориальные признаки к вещественным следующими способами:\n",
    "\n",
    "* как OHE признаки;\n",
    "* как счетчики со сглаживанием.\n",
    "\n",
    "Можно использовать библиотечные реализации; при подсчете счетчиков нельзя использовать циклы.\n",
    "\n",
    "**(0.5 баллa) (?)** Как меняется время, необходимое для обучения моделей в зависимости от способа кодирования? (Параметры можно не подбирать)."
   ]
  },
  {
   "cell_type": "code",
   "execution_count": 175,
   "metadata": {},
   "outputs": [
    {
     "name": "stdout",
     "output_type": "stream",
     "text": [
      "Время обучения:  2.23 сек\n",
      "PR-AUC (LGBMClassifier) =   0.24\n",
      "Время обучения:  26.53 сек\n",
      "PR-AUC (CatBoostClassifier) =   0.244\n"
     ]
    }
   ],
   "source": [
    "### your code here ╰( ͡° ͜ʖ ͡° )つ──☆*:・ﾟ\n",
    "from sklearn.preprocessing import OneHotEncoder\n",
    "from sklearn.compose import ColumnTransformer\n",
    "\n",
    "ct = ColumnTransformer([\n",
    "    ('ohe', OneHotEncoder(handle_unknown=\"ignore\"), cat_features),\n",
    "    ('pass', 'passthrough', num_features)\n",
    "])\n",
    "\n",
    "clf = LGBMClassifier()\n",
    "start_time = timeit.default_timer()\n",
    "clf.fit(ct.fit_transform(X_train), y_train)\n",
    "print('Время обучения: ', round(timeit.default_timer() - start_time, 2), 'сек')\n",
    "proba = clf.predict_proba(ct.transform(X_test))\n",
    "print('PR-AUC (LGBMClassifier) =  ', round(average_precision_score(y_test, proba[:, 1]), 3))\n",
    "\n",
    "clf = CatBoostClassifier(verbose=False)\n",
    "start_time = timeit.default_timer()\n",
    "clf.fit(ct.fit_transform(X_train), y_train)\n",
    "print('Время обучения: ', round(timeit.default_timer() - start_time, 2), 'сек')\n",
    "proba = clf.predict_proba(ct.transform(X_test))\n",
    "print('PR-AUC (CatBoostClassifier) =  ', round(average_precision_score(y_test, proba[:, 1], average=None), 3))"
   ]
  },
  {
   "cell_type": "code",
   "execution_count": 174,
   "metadata": {},
   "outputs": [
    {
     "name": "stdout",
     "output_type": "stream",
     "text": [
      "Время обучения:  2.53 сек\n",
      "PR-AUC (LGBMClassifier) =   0.244\n",
      "Время обучения:  20.79 сек\n",
      "PR-AUC (CatBoostClassifier) =   0.243\n"
     ]
    }
   ],
   "source": [
    "from category_encoders import TargetEncoder\n",
    "\n",
    "ct = ColumnTransformer([\n",
    "    ('ohe', TargetEncoder(), cat_features),\n",
    "    ('pass', 'passthrough', num_features)\n",
    "])\n",
    "\n",
    "clf = LGBMClassifier()\n",
    "start_time = timeit.default_timer()\n",
    "clf.fit(ct.fit_transform(X_train, y_train), y_train)\n",
    "print('Время обучения: ', round(timeit.default_timer() - start_time, 2), 'сек')\n",
    "proba = clf.predict_proba(ct.transform(X_test))\n",
    "print('PR-AUC (LGBMClassifier) =  ', round(average_precision_score(y_test, proba[:, 1]), 3))\n",
    "\n",
    "clf = CatBoostClassifier(verbose=False)\n",
    "start_time = timeit.default_timer()\n",
    "clf.fit(ct.fit_transform(X_train, y_train), y_train)\n",
    "print('Время обучения: ', round(timeit.default_timer() - start_time, 2), 'сек')\n",
    "proba = clf.predict_proba(ct.transform(X_test))\n",
    "print('PR-AUC (CatBoostClassifier) =  ', round(average_precision_score(y_test, proba[:, 1], average=None), 3))"
   ]
  },
  {
   "cell_type": "markdown",
   "metadata": {},
   "source": [
    "**Your answer here:**\n",
    "\n",
    "для алгоритма LGBMClassifier: время работы алгоритма со сглаживающими счётчиками больше, но не намного, при этом качество алгоритма увеличивается, но также не намного.\n",
    "\n",
    "для алгоритма CatBoostClassifier: время работы алгоритма со сглаживающими счетчиками уменьшилось почти на 7 секунд, при этом качество алгоритма почти не изменилось"
   ]
  },
  {
   "cell_type": "markdown",
   "metadata": {},
   "source": [
    "**Задание 8 (1 балл)**\n",
    "\n",
    "**(0.7 баллa)** Для CatBoost можно не делать ручную обработку категориальных признаков, а подавать как есть. Обучите модель CatBoost, не обрабатывая специально категориальные признаки, замерьте время обучения (параметры возьмите из предыдущего пункта).  \n",
    "\n",
    "**(0.3 баллa) (?)**Сравните с временем обучения модели CatBoost из предыдущего пункта. Как изменилось время? Почему?"
   ]
  },
  {
   "cell_type": "code",
   "execution_count": 176,
   "metadata": {},
   "outputs": [
    {
     "name": "stdout",
     "output_type": "stream",
     "text": [
      "Время обучения:  157.09 сек\n",
      "PR-AUC (CatBoostClassifier) =   0.244\n"
     ]
    }
   ],
   "source": [
    "### your code here ╰( ͡° ͜ʖ ͡° )つ──☆*:・ﾟ\n",
    "clf = CatBoostClassifier(cat_features=cat_features, verbose=False)\n",
    "start_time = timeit.default_timer()\n",
    "clf.fit(X_train, y_train)\n",
    "print('Время обучения: ', round(timeit.default_timer() - start_time, 2), 'сек')\n",
    "proba = clf.predict_proba(X_test)\n",
    "print('PR-AUC (CatBoostClassifier) =  ', round(average_precision_score(y_test, proba[:, 1], average=None), 3))"
   ]
  },
  {
   "cell_type": "markdown",
   "metadata": {},
   "source": [
    "**Your answer here:**\n",
    "Время обучения увеличилось в 7 раз, так как алгоритм на каждой итерации пересчитвает счётчики для категориальных признаков, то есть CatBoost в каждом алгоритм кодирует признаки."
   ]
  },
  {
   "cell_type": "markdown",
   "metadata": {},
   "source": [
    "**Бонус. (1 балл)**\n",
    "\n",
    "**(0.7 баллa)**Подберите оптимальные параметры для LightGBM с вещественными и категориальными признаками (предварительно обработанные каким-нибудь способом). Подберите оптимальные параметры для CatBoost с вещественными и необработанными категориальными признаками. \n",
    "\n",
    "**(0.3 баллa) (?)**Сравните качество моделей на наилучших параметрах. Какой метод получился лучше с точки зрения качества? Совпадает ли результат с вашими ожиданиями?"
   ]
  },
  {
   "cell_type": "code",
   "execution_count": 261,
   "metadata": {},
   "outputs": [],
   "source": [
    "### your code here ╰( ͡° ͜ʖ ͡° )つ──☆*:・ﾟ\n",
    "ct = ColumnTransformer([\n",
    "    ('ohe', TargetEncoder(), cat_features),\n",
    "    ('pass', 'passthrough', num_features)\n",
    "])"
   ]
  },
  {
   "cell_type": "code",
   "execution_count": 262,
   "metadata": {},
   "outputs": [
    {
     "data": {
      "text/plain": [
       "GridSearchCV(cv=3, estimator=LGBMClassifier(random_state=241), n_jobs=-1,\n",
       "             param_grid={'learning_rate': [0.001, 0.01, 0.1],\n",
       "                         'max_depth': [3, 5, 7],\n",
       "                         'n_estimators': [100, 500, 700]},\n",
       "             scoring='average_precision')"
      ]
     },
     "execution_count": 262,
     "metadata": {},
     "output_type": "execute_result"
    }
   ],
   "source": [
    "n_trees = [100, 500, 700]\n",
    "gs_new = GridSearchCV(LGBMClassifier(random_state=241),\n",
    "                  param_grid={\n",
    "                      'learning_rate': [0.001, 0.01, 0.1],\n",
    "                      'max_depth': [3, 5, 7],\n",
    "                      'n_estimators': n_trees,\n",
    "                  },\n",
    "                  cv=3,\n",
    "                  scoring='average_precision', n_jobs=-1)\n",
    "gs_new.fit(ct.fit_transform(df, Y), Y)"
   ]
  },
  {
   "cell_type": "code",
   "execution_count": 263,
   "metadata": {},
   "outputs": [
    {
     "data": {
      "text/plain": [
       "{'learning_rate': 0.1, 'max_depth': 3, 'n_estimators': 500}"
      ]
     },
     "execution_count": 263,
     "metadata": {},
     "output_type": "execute_result"
    }
   ],
   "source": [
    "gs_new.best_params_"
   ]
  },
  {
   "cell_type": "code",
   "execution_count": 264,
   "metadata": {},
   "outputs": [
    {
     "name": "stderr",
     "output_type": "stream",
     "text": [
      "Custom logger is already specified. Specify more than one logger at same time is not thread safe."
     ]
    },
    {
     "data": {
      "text/plain": [
       "GridSearchCV(cv=3,\n",
       "             estimator=<catboost.core.CatBoostClassifier object at 0x0000024260DBA910>,\n",
       "             n_jobs=-1,\n",
       "             param_grid={'learning_rate': [0.001, 0.01, 0.1],\n",
       "                         'max_depth': [3, 5, 7],\n",
       "                         'n_estimators': [100, 500, 700]},\n",
       "             scoring='average_precision')"
      ]
     },
     "execution_count": 264,
     "metadata": {},
     "output_type": "execute_result"
    }
   ],
   "source": [
    "n_trees = [100, 500, 700]\n",
    "gs_cb_new = GridSearchCV(CatBoostClassifier(random_state=241, verbose=False, cat_features=cat_features),\n",
    "                  param_grid={\n",
    "                      'learning_rate': [0.001, 0.01, 0.1],\n",
    "                      'max_depth': [3, 5, 7],\n",
    "                      'n_estimators': n_trees,\n",
    "                  },\n",
    "                  cv=3,\n",
    "                  scoring='average_precision', n_jobs=-1)\n",
    "gs_cb_new.fit(df, Y)"
   ]
  },
  {
   "cell_type": "code",
   "execution_count": 265,
   "metadata": {},
   "outputs": [
    {
     "data": {
      "text/plain": [
       "{'learning_rate': 0.1, 'max_depth': 3, 'n_estimators': 700}"
      ]
     },
     "execution_count": 265,
     "metadata": {},
     "output_type": "execute_result"
    }
   ],
   "source": [
    "gs_cb_new.best_params_"
   ]
  },
  {
   "cell_type": "code",
   "execution_count": 266,
   "metadata": {},
   "outputs": [
    {
     "data": {
      "text/plain": [
       "(0.24226721524152448, 0.2426690204443541)"
      ]
     },
     "execution_count": 266,
     "metadata": {},
     "output_type": "execute_result"
    }
   ],
   "source": [
    "gs_new.best_score_, gs_cb_new.best_score_"
   ]
  },
  {
   "cell_type": "markdown",
   "metadata": {},
   "source": [
    "Наилучший метод с точки зрения качества - это CatBoost, но его качество почти не отличается от LGBM. Оптимальными параметрами для CatBoost оказались наибольшее количество деревьев и наименьшая глубина. Оптимальныи параметрами для LGBM оказались среднее количество деревьев и наименьшая глубина. "
   ]
  },
  {
   "cell_type": "markdown",
   "metadata": {},
   "source": [
    "#### Ваш ответ здесь╰( ͡° ͜ʖ ͡° )つ──☆*:・ﾟ\n",
    "новогдний фильмы(все банально и просто) - Один дома, Иван Васильевич меняет профессию, Гринч\n",
    "\n",
    "музыка - Abba, The Beatles, We Wish You A Merry Christmas, Jingle Bells, Let It Snow\n",
    "\n",
    "развлечения - настольные игры с семьёй, шахматы, просмотр фильма и приготовление салатиков на новый год)))\n"
   ]
  },
  {
   "cell_type": "code",
   "execution_count": null,
   "metadata": {},
   "outputs": [],
   "source": []
  }
 ],
 "metadata": {
  "kernelspec": {
   "display_name": "Python 3",
   "language": "python",
   "name": "python3"
  },
  "language_info": {
   "codemirror_mode": {
    "name": "ipython",
    "version": 3
   },
   "file_extension": ".py",
   "mimetype": "text/x-python",
   "name": "python",
   "nbconvert_exporter": "python",
   "pygments_lexer": "ipython3",
   "version": "3.8.8"
  }
 },
 "nbformat": 4,
 "nbformat_minor": 2
}
